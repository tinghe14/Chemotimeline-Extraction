{
 "cells": [
  {
   "cell_type": "code",
   "execution_count": 1,
   "metadata": {},
   "outputs": [],
   "source": [
    "import json \n",
    "import os \n",
    "import pandas as pd \n",
    "import numpy as np \n",
    "import random\n",
    "from collections import defaultdict \n"
   ]
  },
  {
   "cell_type": "code",
   "execution_count": 2,
   "metadata": {},
   "outputs": [],
   "source": [
    "def _get_size(cancer, mode):\n",
    "    if (cancer == \"breast\" or cancer == \"ovarian\") and mode == \"train\":\n",
    "        return 100\n",
    "    elif cancer == \"melanoma\" and mode == \"train\":\n",
    "        return 10 \n",
    "    elif (cancer == \"breast\" or cancer == \"ovarian\") and mode == \"dev\":\n",
    "        return 20 \n",
    "    elif cancer == \"melanoma\" and mode == \"dev\":\n",
    "        return 2 "
   ]
  },
  {
   "cell_type": "markdown",
   "metadata": {},
   "source": [
    "##### convert non-empty json for rel type \n",
    "multi seq classification"
   ]
  },
  {
   "cell_type": "code",
   "execution_count": 8,
   "metadata": {},
   "outputs": [
    {
     "name": "stdout",
     "output_type": "stream",
     "text": [
      "20\n",
      "237 [169  40 232 209  16 133 196   5 215 232 141 201 214 143 122 194   2 234\n",
      " 104 149]\n",
      "20\n",
      "681 [597 453  11 496 632 212 489 455 533 302 529 362 431 491 326 140 327 212\n",
      "  14 508]\n",
      "2\n",
      "558 [112 137]\n"
     ]
    }
   ],
   "source": [
    "# sample\n",
    "\n",
    "mode = \"dev\"\n",
    "\n",
    "\n",
    "final_lst = []\n",
    "for cancer in [\"breast\", \"ovarian\", \"melanoma\"]:\n",
    "    file = f\"/users/the/NER_MTB/timeset/my_code_result/notebooks1/{cancer}_{mode}_non_empty_rel.json\"\n",
    "    with open(file, \"r\") as infile: \n",
    "        dct = json.load(infile)\n",
    "\n",
    "    non_none_rel = [] # exclude the one dones't have relatioship\n",
    "    for pair in dct: \n",
    "        if pair[\"rel_type\"]is None or pair[\"rel_type\"] == \"none\": \n",
    "            continue \n",
    "        non_none_rel.append(pair)\n",
    "\n",
    "    with open(f'./{cancer}_{mode}_non_none_rel.json', 'w') as f:\n",
    "        json.dump(non_none_rel, f, indent=4) \n",
    "    len(non_none_rel)\n",
    "\n",
    "    size = _get_size(cancer, mode)\n",
    "    print(size)\n",
    "    random_lst = np.random.randint(0, len(dct), size)\n",
    "    print(len(dct), random_lst)\n",
    "\n",
    "    for ind, pair in enumerate(non_none_rel):\n",
    "        if ind in random_lst:\n",
    "            chose_pair = defaultdict()\n",
    "            chose_pair[\"filename\"] = pair[\"filename\"]\n",
    "            chose_pair[\"context\"] = pair[\"context\"]\n",
    "            chose_pair[\"arg1\"] = {\"mention\": pair[\"arg1\"][\"mention\"],\n",
    "                                  \"start\": pair[\"arg1\"][\"start\"],\n",
    "                                   \"end\": pair[\"arg1\"][\"end\"]}\n",
    "            chose_pair[\"arg2\"] = {\"mention\": pair[\"arg2\"][\"mention\"],\n",
    "                            \"start\": pair[\"arg2\"][\"start\"],\n",
    "                            \"end\": pair[\"arg2\"][\"end\"]}\n",
    "            chose_pair[\"relation\"] = pair[\"rel_type\"]\n",
    "            final_lst.append(chose_pair)\n",
    "        else: \n",
    "            continue\n",
    "\n",
    "with open(f'/users/the/NER_MTB/timeset/my_code_result/input_data/rel_label_task/tddiscourse/{mode}.json', 'w') as f:\n",
    "        json.dump(final_lst, f, indent=4) "
   ]
  },
  {
   "cell_type": "code",
   "execution_count": null,
   "metadata": {},
   "outputs": [],
   "source": [
    "mode = \"train\"\n",
    "\n",
    "\n",
    "final_lst = []\n",
    "for cancer in [\"breast\", \"ovarian\", \"melanoma\"]:\n",
    "    file = f\"/users/the/NER_MTB/timeset/my_code_result/notebooks1/{cancer}_{mode}_non_empty_rel.json\"\n",
    "    with open(file, \"r\") as infile: \n",
    "        dct = json.load(infile)\n",
    "    for pair in dct:\n",
    "        print(pair)\n",
    "        # if dct[\"args1\"][\"start\"] is None or dct[\"args2\"][\"start\"] is None:\n",
    "        #     print(cancer, mode)\n"
   ]
  },
  {
   "cell_type": "code",
   "execution_count": null,
   "metadata": {},
   "outputs": [],
   "source": [
    "# whole \n",
    "mode = \"dev\"\n",
    "\n",
    "\n",
    "final_lst = []\n",
    "for cancer in [\"breast\", \"ovarian\", \"melanoma\"]:\n",
    "    file = f\"/users/the/NER_MTB/timeset/my_code_result/input_data/{cancer}_{mode}_pos_neg_for_nli.json\"\n",
    "    with open(file, \"r\") as infile: \n",
    "        dct = json.load(infile)\n",
    "\n",
    "    non_none_rel = [] # exclude the one dones't have relatioship\n",
    "    for pair in dct: \n",
    "        # print(pair.keys())\n",
    "        # if pair[\"rel_type\"]is None or pair[\"arg1\"][\"start\"] is None or pair[\"arg2\"][\"end\"] is None or pair[\"arg2\"][\"start\"] or None or pair[\"arg1\"][\"end\"] is None: \n",
    "        if pair[\"rel_type\"]is None or pair[\"rel_type\"] == \"none\": \n",
    "            continue\n",
    "        # print(pair) \n",
    "        non_none_rel.append(pair)\n",
    "    print(non_none_rel)\n",
    "\n",
    "    with open(f'./{cancer}_{mode}_non_none_rel.json', 'w') as f:\n",
    "        json.dump(non_none_rel, f, indent=4) \n",
    "    print(len(non_none_rel)) \n",
    "\n",
    "    # size = _get_size(cancer, mode)\n",
    "    # print(size)\n",
    "    # random_lst = np.random.randint(0, len(dct), size)\n",
    "    # print(len(dct), random_lst)\n",
    "\n",
    "    for ind, pair in enumerate(non_none_rel):\n",
    "        # if ind in random_lst:\n",
    "        chose_pair = defaultdict()\n",
    "        chose_pair[\"filename\"] = pair[\"filename\"]\n",
    "        chose_pair[\"context\"] = pair[\"context\"]\n",
    "        chose_pair[\"arg1\"] = {\"mention\": pair[\"arg1\"][\"mention\"],\n",
    "                                \"start\": pair[\"arg1\"][\"start\"],\n",
    "                                \"end\": pair[\"arg1\"][\"end\"]}\n",
    "        chose_pair[\"arg2\"] = {\"mention\": pair[\"arg2\"][\"mention\"],\n",
    "                        \"start\": pair[\"arg2\"][\"start\"],\n",
    "                        \"end\": pair[\"arg2\"][\"end\"]}\n",
    "        chose_pair[\"relation\"] = pair[\"rel_type\"]\n",
    "        # print(chose_pair)\n",
    "        final_lst.append(chose_pair)\n",
    "\n",
    "\n",
    "with open(f'/users/the/NER_MTB/timeset/my_code_result/input_data/rel_label_task/tddiscourse/{mode}.json', 'w') as f:\n",
    "        json.dump(final_lst, f, indent=4) "
   ]
  }
 ],
 "metadata": {
  "kernelspec": {
   "display_name": "Python 3",
   "language": "python",
   "name": "python3"
  },
  "language_info": {
   "codemirror_mode": {
    "name": "ipython",
    "version": 3
   },
   "file_extension": ".py",
   "mimetype": "text/x-python",
   "name": "python",
   "nbconvert_exporter": "python",
   "pygments_lexer": "ipython3",
   "version": "3.8.17"
  }
 },
 "nbformat": 4,
 "nbformat_minor": 2
}
