{
 "cells": [
  {
   "cell_type": "code",
   "execution_count": 1,
   "metadata": {},
   "outputs": [],
   "source": [
    "import os \n",
    "import pandas as pd \n",
    "import json"
   ]
  },
  {
   "cell_type": "markdown",
   "metadata": {},
   "source": [
    "###### Explore output from add_lookup and Compare with Gold to modify lexicon"
   ]
  },
  {
   "cell_type": "code",
   "execution_count": 3,
   "metadata": {},
   "outputs": [
    {
     "name": "stdout",
     "output_type": "stream",
     "text": [
      "fp chemo mention ~{'chemoradiation', 'anastrozole'}\n",
      "fn chemo mention ~{'cyclophosphamide', 'a/c', 'doxorubicin', 'docetaxol', 'docetaxel'}\n"
     ]
    }
   ],
   "source": [
    "cancer, mode = \"breast\", \"train\"\n",
    "\n",
    "lookup_file = f\"/users/the/NER_MTB/timelines/docker_output_to_timeline/summarized_output/add_lookup/cleaned_{cancer}_{mode}.json\"\n",
    "gold_file = f\"/users/the/NER_MTB/chemoTimelines2024_train_dev_labeled/subtask1/Gold_Timelines_allPatients/{cancer}_{mode}_all_patients_gold_timelines.json\"\n",
    "\n",
    "def read_json(json_file):\n",
    "    with open(json_file, \"r\") as infile:\n",
    "        dct = json.load(infile)\n",
    "    return dct \n",
    "lookup_dct = read_json(lookup_file)\n",
    "gold_dct = read_json(gold_file)\n",
    "\n",
    "lookup_chemo_lst, gold_chemo_lst = [], []\n",
    "# lexicon different of chemo\n",
    "for pat_id in lookup_dct.keys(): \n",
    "    for triple in lookup_dct[pat_id]:\n",
    "        lookup_chemo_lst.append(triple[0])\n",
    "for pat_id in gold_dct.keys(): \n",
    "    for triple in gold_dct[pat_id]:\n",
    "        gold_chemo_lst.append(triple[0])\n",
    "print(f\"fp chemo mention ~{set(lookup_chemo_lst)-set(gold_chemo_lst)}\")\n",
    "print(f\"fn chemo mention ~{set(gold_chemo_lst)-set(lookup_chemo_lst)}\")"
   ]
  }
 ],
 "metadata": {
  "kernelspec": {
   "display_name": "Python 3",
   "language": "python",
   "name": "python3"
  },
  "language_info": {
   "codemirror_mode": {
    "name": "ipython",
    "version": 3
   },
   "file_extension": ".py",
   "mimetype": "text/x-python",
   "name": "python",
   "nbconvert_exporter": "python",
   "pygments_lexer": "ipython3",
   "version": "3.8.17"
  }
 },
 "nbformat": 4,
 "nbformat_minor": 2
}
