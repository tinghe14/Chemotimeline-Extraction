{
 "cells": [
  {
   "cell_type": "code",
   "execution_count": 1,
   "metadata": {},
   "outputs": [],
   "source": [
    "import json\n",
    "import pandas as pd\n",
    "from collections import defaultdict"
   ]
  },
  {
   "cell_type": "markdown",
   "metadata": {},
   "source": [
    "##### Evaluate Time Normalization Method In gold dataset through patient-level rel\n",
    "###### 1. read pat-level json file, read pair-wise gold json dct\n",
    "###### 2. map chemo in pat-level to the documents it can be"
   ]
  },
  {
   "cell_type": "code",
   "execution_count": null,
   "metadata": {},
   "outputs": [],
   "source": [
    "patwise_dct"
   ]
  },
  {
   "cell_type": "code",
   "execution_count": null,
   "metadata": {},
   "outputs": [],
   "source": [
    "pairwise_dct"
   ]
  },
  {
   "cell_type": "code",
   "execution_count": 13,
   "metadata": {},
   "outputs": [],
   "source": [
    "patlevel_dct_file = \"/users/the/NER_MTB/chemoTimelines2024_train_dev_labeled/subtask1/Gold_Timelines_allPatients/breast_train_all_patients_gold_timelines.json\"\n",
    "pairwise_gold_dct_file = \"/users/the/NER_MTB/0_breast_train_gold_dct.json\"\n",
    "out_file = \"/users/the/NER_MTB/my/convert_patchemo_2_filenames/convert_patchemo_2_filenames.json\"\n",
    "\n",
    "with open(patlevel_dct_file, \"r\") as infile:\n",
    "    patlevel_dct = json.load(infile)\n",
    "with open(pairwise_gold_dct_file, \"r\") as infile:\n",
    "    pairwise_dct = json.load(infile)\n",
    "\n",
    "new_dct = {}\n",
    "for pat_id in patlevel_dct.keys():\n",
    "    if len(patlevel_dct[pat_id]) == 0:\n",
    "        new_dct[pat_id] = []\n",
    "        continue\n",
    "    lower_chemo_lst = []\n",
    "    patlevel_lst = []\n",
    "    for patlevel_triple in patlevel_dct[pat_id]:\n",
    "        filename_lst = []\n",
    "        patlevel_chemo = patlevel_triple[0]\n",
    "        num = 0\n",
    "        for filename in pairwise_dct[pat_id].keys():\n",
    "            chemo_lst = pairwise_dct[pat_id][filename][\"pair_wise\"][\"chemo\"][\"ment\"]\n",
    "            for pairwise_chemo in chemo_lst:\n",
    "                lower_chemo_lst.append(pairwise_chemo.lower())\n",
    "            num += 1\n",
    "\n",
    "            if patlevel_chemo in lower_chemo_lst:\n",
    "                filename_lst.append(filename)\n",
    "                continue\n",
    "            \n",
    "        patlevel_triple.extend(list(set(filename_lst)))\n",
    "        patlevel_triple.append(len(patlevel_triple)-3)\n",
    "        lower_chemo_lst = []\n",
    "        patlevel_lst.append(patlevel_triple)\n",
    "    new_dct[pat_id] = [num, patlevel_lst]\n",
    "with open(out_file, \"w\") as outfile:\n",
    "    json.dump(new_dct, outfile)\n"
   ]
  },
  {
   "cell_type": "code",
   "execution_count": null,
   "metadata": {},
   "outputs": [],
   "source": [
    "for pat_id in new_dct.keys():\n",
    "    print(f\"~~~~~{pat_id}~~~~\")\n",
    "    for ind, triples in enumerate(new_dct[pat_id]):\n",
    "        if ind == 0:\n",
    "            print(triples)\n",
    "        else: \n",
    "            for triple in triples:\n",
    "                print(triple)\n",
    "    print(\"\\n\")"
   ]
  }
 ],
 "metadata": {
  "kernelspec": {
   "display_name": "Python 3",
   "language": "python",
   "name": "python3"
  },
  "language_info": {
   "codemirror_mode": {
    "name": "ipython",
    "version": 3
   },
   "file_extension": ".py",
   "mimetype": "text/x-python",
   "name": "python",
   "nbconvert_exporter": "python",
   "pygments_lexer": "ipython3",
   "version": "3.8.17"
  }
 },
 "nbformat": 4,
 "nbformat_minor": 2
}
