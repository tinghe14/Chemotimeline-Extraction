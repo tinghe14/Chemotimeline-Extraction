{
 "cells": [
  {
   "cell_type": "code",
   "execution_count": 1,
   "metadata": {},
   "outputs": [],
   "source": [
    "\n",
    "import os"
   ]
  },
  {
   "cell_type": "markdown",
   "metadata": {},
   "source": [
    "##### Test 01\n",
    "###### want to explore if remove all the \\n. to space what will change"
   ]
  },
  {
   "cell_type": "code",
   "execution_count": 4,
   "metadata": {},
   "outputs": [],
   "source": [
    "cancer, mode = \"melanoma\", \"test\"\n",
    "def _replace_newline(filename):\n",
    "    with open(filename, 'r') as file:\n",
    "        lines = file.readlines()\n",
    "\n",
    "    for i in range(9, len(lines)): # remove trailling new lines from the end of string\n",
    "        # useful when readling lines from a text file\n",
    "        lines[i] = lines[i].rstrip('\\n') + ' '\n",
    "\n",
    "    with open(filename, 'w') as file:\n",
    "        file.writelines(lines)\n",
    "\n",
    "DIR = f\"/users/the/NER_MTB/timelines/chemoTimelinesBaselineSystem/input/change_n2space_task2/input_{cancer}_{mode}_task2/Patient_Notes/{cancer}/{mode}\"\n",
    "for folder in os.listdir(DIR):\n",
    "    if os.path.isdir(os.path.join(DIR, folder)):\n",
    "        for filename in os.listdir(os.path.join(DIR, folder)):\n",
    "            file_path = os.path.join(DIR, folder, filename)\n",
    "            _replace_newline(file_path)"
   ]
  }
 ],
 "metadata": {
  "kernelspec": {
   "display_name": "Python 3",
   "language": "python",
   "name": "python3"
  },
  "language_info": {
   "codemirror_mode": {
    "name": "ipython",
    "version": 3
   },
   "file_extension": ".py",
   "mimetype": "text/x-python",
   "name": "python",
   "nbconvert_exporter": "python",
   "pygments_lexer": "ipython3",
   "version": "3.8.17"
  }
 },
 "nbformat": 4,
 "nbformat_minor": 2
}
