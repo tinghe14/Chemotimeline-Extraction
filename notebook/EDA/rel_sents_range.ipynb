{
 "cells": [
  {
   "cell_type": "code",
   "execution_count": 1,
   "metadata": {},
   "outputs": [
    {
     "name": "stderr",
     "output_type": "stream",
     "text": [
      "2024-03-25 16:44:17.968302: I tensorflow/core/util/port.cc:110] oneDNN custom operations are on. You may see slightly different numerical results due to floating-point round-off errors from different computation orders. To turn them off, set the environment variable `TF_ENABLE_ONEDNN_OPTS=0`.\n",
      "2024-03-25 16:44:23.605955: I tensorflow/core/platform/cpu_feature_guard.cc:182] This TensorFlow binary is optimized to use available CPU instructions in performance-critical operations.\n",
      "To enable the following instructions: AVX2 AVX512F AVX512_VNNI FMA, in other operations, rebuild TensorFlow with the appropriate compiler flags.\n",
      "2024-03-25 16:44:27.240838: W tensorflow/compiler/tf2tensorrt/utils/py_utils.cc:38] TF-TRT Warning: Could not find TensorRT\n"
     ]
    }
   ],
   "source": [
    "import json\n",
    "import os \n",
    "import spacy\n",
    "import numpy as np\n",
    "import matplotlib.pyplot as plt\n",
    "from collections import Counter"
   ]
  },
  {
   "cell_type": "code",
   "execution_count": 2,
   "metadata": {},
   "outputs": [
    {
     "name": "stdout",
     "output_type": "stream",
     "text": [
      "2024-03-25 16:44:50.245579: I tensorflow/core/util/port.cc:110] oneDNN custom operations are on. You may see slightly different numerical results due to floating-point round-off errors from different computation orders. To turn them off, set the environment variable `TF_ENABLE_ONEDNN_OPTS=0`.\n",
      "2024-03-25 16:44:50.282305: I tensorflow/core/platform/cpu_feature_guard.cc:182] This TensorFlow binary is optimized to use available CPU instructions in performance-critical operations.\n",
      "To enable the following instructions: AVX2 AVX512F AVX512_VNNI FMA, in other operations, rebuild TensorFlow with the appropriate compiler flags.\n",
      "2024-03-25 16:44:51.574379: W tensorflow/compiler/tf2tensorrt/utils/py_utils.cc:38] TF-TRT Warning: Could not find TensorRT\n",
      "Collecting en-core-web-sm==3.4.1\n",
      "  Downloading https://github.com/explosion/spacy-models/releases/download/en_core_web_sm-3.4.1/en_core_web_sm-3.4.1-py3-none-any.whl (12.8 MB)\n",
      "\u001b[2K     \u001b[90m━━━━━━━━━━━━━━━━━━━━━━━━━━━━━━━━━━━━━━━━\u001b[0m \u001b[32m12.8/12.8 MB\u001b[0m \u001b[31m49.6 MB/s\u001b[0m eta \u001b[36m0:00:00\u001b[0m00:01\u001b[0m00:01\u001b[0m\n",
      "\u001b[?25hRequirement already satisfied: spacy<3.5.0,>=3.4.0 in /users/the/.conda/envs/linkbert/lib/python3.8/site-packages (from en-core-web-sm==3.4.1) (3.4.4)\n",
      "Requirement already satisfied: spacy-legacy<3.1.0,>=3.0.10 in /users/the/.conda/envs/linkbert/lib/python3.8/site-packages (from spacy<3.5.0,>=3.4.0->en-core-web-sm==3.4.1) (3.0.12)\n",
      "Requirement already satisfied: spacy-loggers<2.0.0,>=1.0.0 in /users/the/.conda/envs/linkbert/lib/python3.8/site-packages (from spacy<3.5.0,>=3.4.0->en-core-web-sm==3.4.1) (1.0.5)\n",
      "Requirement already satisfied: murmurhash<1.1.0,>=0.28.0 in /users/the/.conda/envs/linkbert/lib/python3.8/site-packages (from spacy<3.5.0,>=3.4.0->en-core-web-sm==3.4.1) (1.0.10)\n",
      "Requirement already satisfied: cymem<2.1.0,>=2.0.2 in /users/the/.conda/envs/linkbert/lib/python3.8/site-packages (from spacy<3.5.0,>=3.4.0->en-core-web-sm==3.4.1) (2.0.8)\n",
      "Requirement already satisfied: preshed<3.1.0,>=3.0.2 in /users/the/.conda/envs/linkbert/lib/python3.8/site-packages (from spacy<3.5.0,>=3.4.0->en-core-web-sm==3.4.1) (3.0.9)\n",
      "Requirement already satisfied: thinc<8.2.0,>=8.1.0 in /users/the/.conda/envs/linkbert/lib/python3.8/site-packages (from spacy<3.5.0,>=3.4.0->en-core-web-sm==3.4.1) (8.1.12)\n",
      "Requirement already satisfied: wasabi<1.1.0,>=0.9.1 in /users/the/.conda/envs/linkbert/lib/python3.8/site-packages (from spacy<3.5.0,>=3.4.0->en-core-web-sm==3.4.1) (0.10.1)\n",
      "Requirement already satisfied: srsly<3.0.0,>=2.4.3 in /users/the/.conda/envs/linkbert/lib/python3.8/site-packages (from spacy<3.5.0,>=3.4.0->en-core-web-sm==3.4.1) (2.4.8)\n",
      "Requirement already satisfied: catalogue<2.1.0,>=2.0.6 in /users/the/.conda/envs/linkbert/lib/python3.8/site-packages (from spacy<3.5.0,>=3.4.0->en-core-web-sm==3.4.1) (2.0.10)\n",
      "Requirement already satisfied: typer<0.8.0,>=0.3.0 in /users/the/.conda/envs/linkbert/lib/python3.8/site-packages (from spacy<3.5.0,>=3.4.0->en-core-web-sm==3.4.1) (0.7.0)\n",
      "Requirement already satisfied: pathy>=0.3.5 in /users/the/.conda/envs/linkbert/lib/python3.8/site-packages (from spacy<3.5.0,>=3.4.0->en-core-web-sm==3.4.1) (0.11.0)\n",
      "Requirement already satisfied: smart-open<7.0.0,>=5.2.1 in /users/the/.conda/envs/linkbert/lib/python3.8/site-packages (from spacy<3.5.0,>=3.4.0->en-core-web-sm==3.4.1) (6.4.0)\n",
      "Requirement already satisfied: tqdm<5.0.0,>=4.38.0 in /users/the/.conda/envs/linkbert/lib/python3.8/site-packages (from spacy<3.5.0,>=3.4.0->en-core-web-sm==3.4.1) (4.49.0)\n",
      "Requirement already satisfied: numpy>=1.15.0 in /users/the/.conda/envs/linkbert/lib/python3.8/site-packages (from spacy<3.5.0,>=3.4.0->en-core-web-sm==3.4.1) (1.24.4)\n",
      "Requirement already satisfied: requests<3.0.0,>=2.13.0 in /users/the/.conda/envs/linkbert/lib/python3.8/site-packages (from spacy<3.5.0,>=3.4.0->en-core-web-sm==3.4.1) (2.31.0)\n",
      "Requirement already satisfied: pydantic!=1.8,!=1.8.1,<1.11.0,>=1.7.4 in /users/the/.conda/envs/linkbert/lib/python3.8/site-packages (from spacy<3.5.0,>=3.4.0->en-core-web-sm==3.4.1) (1.10.14)\n",
      "Requirement already satisfied: jinja2 in /users/the/.conda/envs/linkbert/lib/python3.8/site-packages (from spacy<3.5.0,>=3.4.0->en-core-web-sm==3.4.1) (3.1.2)\n",
      "Requirement already satisfied: setuptools in /users/the/.conda/envs/linkbert/lib/python3.8/site-packages (from spacy<3.5.0,>=3.4.0->en-core-web-sm==3.4.1) (59.5.0)\n",
      "Requirement already satisfied: packaging>=20.0 in /users/the/.conda/envs/linkbert/lib/python3.8/site-packages (from spacy<3.5.0,>=3.4.0->en-core-web-sm==3.4.1) (23.2)\n",
      "Requirement already satisfied: langcodes<4.0.0,>=3.2.0 in /users/the/.conda/envs/linkbert/lib/python3.8/site-packages (from spacy<3.5.0,>=3.4.0->en-core-web-sm==3.4.1) (3.3.0)\n",
      "Requirement already satisfied: pathlib-abc==0.1.1 in /users/the/.conda/envs/linkbert/lib/python3.8/site-packages (from pathy>=0.3.5->spacy<3.5.0,>=3.4.0->en-core-web-sm==3.4.1) (0.1.1)\n",
      "Requirement already satisfied: typing-extensions>=4.2.0 in /users/the/.conda/envs/linkbert/lib/python3.8/site-packages (from pydantic!=1.8,!=1.8.1,<1.11.0,>=1.7.4->spacy<3.5.0,>=3.4.0->en-core-web-sm==3.4.1) (4.8.0)\n",
      "Requirement already satisfied: charset-normalizer<4,>=2 in /users/the/.conda/envs/linkbert/lib/python3.8/site-packages (from requests<3.0.0,>=2.13.0->spacy<3.5.0,>=3.4.0->en-core-web-sm==3.4.1) (3.3.2)\n",
      "Requirement already satisfied: idna<4,>=2.5 in /users/the/.conda/envs/linkbert/lib/python3.8/site-packages (from requests<3.0.0,>=2.13.0->spacy<3.5.0,>=3.4.0->en-core-web-sm==3.4.1) (3.6)\n",
      "Requirement already satisfied: urllib3<3,>=1.21.1 in /users/the/.conda/envs/linkbert/lib/python3.8/site-packages (from requests<3.0.0,>=2.13.0->spacy<3.5.0,>=3.4.0->en-core-web-sm==3.4.1) (2.2.0)\n",
      "Requirement already satisfied: certifi>=2017.4.17 in /users/the/.conda/envs/linkbert/lib/python3.8/site-packages (from requests<3.0.0,>=2.13.0->spacy<3.5.0,>=3.4.0->en-core-web-sm==3.4.1) (2023.11.17)\n",
      "Requirement already satisfied: blis<0.8.0,>=0.7.8 in /users/the/.conda/envs/linkbert/lib/python3.8/site-packages (from thinc<8.2.0,>=8.1.0->spacy<3.5.0,>=3.4.0->en-core-web-sm==3.4.1) (0.7.11)\n",
      "Requirement already satisfied: confection<1.0.0,>=0.0.1 in /users/the/.conda/envs/linkbert/lib/python3.8/site-packages (from thinc<8.2.0,>=8.1.0->spacy<3.5.0,>=3.4.0->en-core-web-sm==3.4.1) (0.1.3)\n",
      "Requirement already satisfied: click<9.0.0,>=7.1.1 in /users/the/.conda/envs/linkbert/lib/python3.8/site-packages (from typer<0.8.0,>=0.3.0->spacy<3.5.0,>=3.4.0->en-core-web-sm==3.4.1) (8.1.7)\n",
      "Requirement already satisfied: MarkupSafe>=2.0 in /users/the/.conda/envs/linkbert/lib/python3.8/site-packages (from jinja2->spacy<3.5.0,>=3.4.0->en-core-web-sm==3.4.1) (2.1.3)\n",
      "\n",
      "\u001b[1m[\u001b[0m\u001b[34;49mnotice\u001b[0m\u001b[1;39;49m]\u001b[0m\u001b[39;49m A new release of pip is available: \u001b[0m\u001b[31;49m23.2.1\u001b[0m\u001b[39;49m -> \u001b[0m\u001b[32;49m24.0\u001b[0m\n",
      "\u001b[1m[\u001b[0m\u001b[34;49mnotice\u001b[0m\u001b[1;39;49m]\u001b[0m\u001b[39;49m To update, run: \u001b[0m\u001b[32;49mpip install --upgrade pip\u001b[0m\n",
      "\u001b[38;5;2m✔ Download and installation successful\u001b[0m\n",
      "You can now load the package via spacy.load('en_core_web_sm')\n"
     ]
    }
   ],
   "source": [
    "!python -m spacy download en_core_web_sm"
   ]
  },
  {
   "cell_type": "markdown",
   "metadata": {},
   "source": [
    "calculate the distance between source and target"
   ]
  },
  {
   "cell_type": "code",
   "execution_count": 3,
   "metadata": {},
   "outputs": [],
   "source": [
    "GOLD_DCT_FILE = \"/users/the/NER_MTB/0_breast_train_gold_dct.json\"\n",
    "\n",
    "def cal_sents_bet(GOLD_DCT_FILE):\n",
    "    with open(GOLD_DCT_FILE, \"r\") as infile:\n",
    "        dct = json.load(infile)\n",
    "    sent_bet = []\n",
    "    for pat_id in dct.keys():\n",
    "        for filename in dct[pat_id].keys():\n",
    "            raw_note = dct[pat_id][filename][\"raw_note\"]\n",
    "            rel_lst = dct[pat_id][filename][\"chemo_time_rel\"]\n",
    "            chemo_id_lst, chemo_span_lst = dct[pat_id][filename][\"pair_wise\"][\"chemo\"][\"ment_id\"], dct[pat_id][filename][\"pair_wise\"][\"chemo\"][\"span\"]\n",
    "            time_id_lst, time_span_lst = dct[pat_id][filename][\"pair_wise\"][\"time\"][\"ment_id\"], dct[pat_id][filename][\"pair_wise\"][\"time\"][\"span\"]\n",
    "\n",
    "            source_id_lst, target_id_lst = rel_lst[\"source_id\"], rel_lst[\"target_id\"]\n",
    "            if len(source_id_lst) == 0:\n",
    "                continue\n",
    "            else:\n",
    "                for sid, tid in zip(source_id_lst, target_id_lst):\n",
    "                    if sid in chemo_id_lst: \n",
    "                        chemo_ind = chemo_id_lst.index(sid)\n",
    "                        try:\n",
    "                            time_ind = time_id_lst.index(tid)\n",
    "                        except: \n",
    "                            print(pat_id, filename, sid, tid)\n",
    "                    else: \n",
    "                        chemo_ind = chemo_id_lst.index(tid)\n",
    "                        time_ind = time_id_lst.index(sid)\n",
    "                    chemo_span = chemo_span_lst[chemo_ind]\n",
    "                    time_span = time_span_lst[time_ind]\n",
    "                    if int(chemo_span[0]) < int(time_span[0]):\n",
    "                        start_ind = int(chemo_span[0]) \n",
    "                        end_ind = int(time_span[1])\n",
    "                    else:\n",
    "                        start_ind = int(time_span[0]) \n",
    "                        end_ind = int(chemo_span[1])\n",
    "            sents = raw_note[start_ind: end_ind]\n",
    "            sents = sents.rstrip('\\n') + ' '\n",
    "            # sents = sents.rstrip('\\t') + ' '\n",
    "            spacy_better = spacy.load(\"en_core_web_sm\")\n",
    "            num_sents = len(list(spacy_better(sents).sents))\n",
    "            sent_bet.append(num_sents)\n",
    "    return sent_bet \n",
    "    print(f\"mean num sents between {np.mean(sent_bet)}\")\n",
    "\n",
    "breast_train_lst = cal_sents_bet(GOLD_DCT_FILE)\n"
   ]
  },
  {
   "cell_type": "code",
   "execution_count": null,
   "metadata": {},
   "outputs": [],
   "source": [
    "GOLD_DCT_FILE = \"/users/the/NER_MTB/0_melanoma_train_gold_dct.json\"\n",
    "melanoma_train_lst = cal_sents_bet(GOLD_DCT_FILE)\n",
    "\n",
    "GOLD_DCT_FILE = \"/users/the/NER_MTB/0_ovarian_train_gold_dct.json\"\n",
    "ovarian_train_lst = cal_sents_bet(GOLD_DCT_FILE)"
   ]
  },
  {
   "cell_type": "code",
   "execution_count": 5,
   "metadata": {},
   "outputs": [
    {
     "name": "stdout",
     "output_type": "stream",
     "text": [
      "maximum: 3\n",
      "Counter({1: 307, 2: 13, 3: 5})\n"
     ]
    },
    {
     "data": {
      "image/png": "[encoded data removed]",
      "text/plain": [
       "<Figure size 640x480 with 1 Axes>"
      ]
     },
     "metadata": {},
     "output_type": "display_data"
    }
   ],
   "source": [
    "lst = []\n",
    "lst += breast_train_lst\n",
    "lst += melanoma_train_lst\n",
    "lst += ovarian_train_lst\n",
    "print(f\"maximum: {np.max(lst)}\")\n",
    "\n",
    "counter = Counter(lst)\n",
    "print(counter)\n",
    "x_values = list(counter.keys())\n",
    "y_values = list(counter.values())\n",
    "\n",
    "# Create bar plot\n",
    "plt.bar(x_values, y_values)\n",
    "plt.xlabel('num sents in between')\n",
    "plt.ylabel('Frequency')\n",
    "plt.title('Bar Plot of Frequency vs. Values')\n",
    "plt.show()"
   ]
  }
 ],
 "metadata": {
  "kernelspec": {
   "display_name": "Python 3",
   "language": "python",
   "name": "python3"
  },
  "language_info": {
   "codemirror_mode": {
    "name": "ipython",
    "version": 3
   },
   "file_extension": ".py",
   "mimetype": "text/x-python",
   "name": "python",
   "nbconvert_exporter": "python",
   "pygments_lexer": "ipython3",
   "version": "3.8.17"
  }
 },
 "nbformat": 4,
 "nbformat_minor": 2
}
