{
 "cells": [
  {
   "cell_type": "code",
   "execution_count": 2,
   "metadata": {},
   "outputs": [],
   "source": [
    "\n",
    "import os"
   ]
  },
  {
   "cell_type": "markdown",
   "metadata": {},
   "source": [
    "##### Test 01\n",
    "###### want to explore if remove all the \\t. to space what will change"
   ]
  },
  {
   "cell_type": "code",
   "execution_count": 3,
   "metadata": {},
   "outputs": [],
   "source": [
    "def _replace_newline(filename):\n",
    "    with open(filename, 'r') as file:\n",
    "        lines = file.readlines()\n",
    "\n",
    "    for i in range(9, len(lines)):\n",
    "        lines[i] = lines[i].rstrip('\\n') + ' '\n",
    "        lines[i] = lines[i].rstrip('\\t') + ' '\n",
    "    with open(filename, 'w') as file:\n",
    "        file.writelines(lines)\n",
    "\n",
    "DIR = \"/users/the/NER_MTB/timelines/chemoTimelinesBaselineSystem/input/2_change_t2space/input_melanoma_dev/Patient_Notes/melanoma/dev\"\n",
    "\n",
    "for folder in os.listdir(DIR):\n",
    "    if os.path.isdir(os.path.join(DIR, folder)):\n",
    "        for filename in os.listdir(os.path.join(DIR, folder)):\n",
    "            file_path = os.path.join(DIR, folder, filename)\n",
    "            _replace_newline(file_path)"
   ]
  }
 ],
 "metadata": {
  "kernelspec": {
   "display_name": "Python 3",
   "language": "python",
   "name": "python3"
  },
  "language_info": {
   "codemirror_mode": {
    "name": "ipython",
    "version": 3
   },
   "file_extension": ".py",
   "mimetype": "text/x-python",
   "name": "python",
   "nbconvert_exporter": "python",
   "pygments_lexer": "ipython3",
   "version": "3.8.17"
  }
 },
 "nbformat": 4,
 "nbformat_minor": 2
}
