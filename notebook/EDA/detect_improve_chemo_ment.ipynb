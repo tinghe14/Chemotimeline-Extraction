{
 "cells": [
  {
   "cell_type": "code",
   "execution_count": 1,
   "metadata": {},
   "outputs": [],
   "source": [
    "import json\n",
    "import pandas as pd "
   ]
  },
  {
   "cell_type": "markdown",
   "metadata": {},
   "source": [
    "## Explore:"
   ]
  },
  {
   "cell_type": "markdown",
   "metadata": {},
   "source": [
    "### chemo ment accuracy\n",
    "how well of the system to extract chemo ment"
   ]
  },
  {
   "cell_type": "code",
   "execution_count": null,
   "metadata": {},
   "outputs": [],
   "source": [
    "# 0. check the index from chemo -> checked \n",
    "# 1. percentage of match, miss, over predict\n",
    "# 2. those 3 percents group by cancer type \n",
    "cancer, mode = \"ovarian\", \"dev\"\n",
    "pred_file = f\"/users/the/NER_MTB/timelines/chemoTimelinesBaselineSystem/output/change_n2space/unsummarized_{cancer}_{mode}_output.tsv\"\n",
    "gold_json_file = f\"/users/the/NER_MTB/0_{cancer}_{mode}_gold_dct.json\"\n",
    "gold_ids_file = f\"/users/the/NER_MTB/chemoTimelines2024_train_dev_labeled/subtask1/All_Patient_IDs/{cancer}_{mode}_patient_ids.txt\"\n",
    "\n",
    "gold_ids = []\n",
    "with open(gold_ids_file, \"r\") as infile:\n",
    "    lines = infile.readlines()\n",
    "gold_ids.extend([id.strip() for id in lines])\n",
    "sorted(gold_ids)\n",
    "with open(gold_json_file, \"r\") as infile:\n",
    "    gold_dct = json.load(infile)\n",
    "\n",
    "pred_df = pd.read_csv(pred_file, delimiter=\"\\t\")\n",
    "pred_unique_note_name = list(set(pred_df[\"note_name\"]))\n",
    "pred_unique_pat_id = list(set(pred_df[\"patient_id\"]))\n",
    "\n",
    "gold_chemo_all, pred_chemo_all = [], []\n",
    "for pat_id in gold_ids:\n",
    "    print(f\"~~~~~~~~{pat_id}~~~~~~~~\")\n",
    "    gold_chemo = []\n",
    "    if pat_id in gold_dct.keys() :\n",
    "        for filename in sorted(list(gold_dct[pat_id].keys())):\n",
    "            if (pat_id+\"_\"+filename) not in pred_unique_note_name:\n",
    "                print(\"The pred file for didn't find this patient with this filename\")\n",
    "                continue\n",
    "            print(\"~~~~~~~~filename: \", pat_id+\"_\"+filename, \"~~~~~~~~\")\n",
    "            gold_chemo = sorted(list(set(gold_dct[pat_id][filename][\"pair_wise\"][\"chemo\"][\"ment\"])))\n",
    "            print(\"GOLD:\")\n",
    "            print(gold_chemo)\n",
    "            pred_chemo = sorted(list(set(pred_df[pred_df[\"note_name\"] == pat_id+\"_\"+filename][\"chemo_text\"].tolist())))\n",
    "            print(\"PREDICTION: \")\n",
    "            print(pred_chemo)\n",
    "    else: \n",
    "        continue\n",
    "        '''\n",
    "        print(\"The gold file for this patient didn't find any chemo mention at all\")\n",
    "        if pat_id not in pred_unique_pat_id:\n",
    "            print(\"The pred file for this patient didn't find any chemo mention at all\")\n",
    "        else:\n",
    "            pred_pat_id_df = pred_df[pred_df.loc[:,\"patient_id\"] == pat_id]\n",
    "            pred_note_name = sorted(list(set(pred_pat_id_df[\"note_name\"])))\n",
    "            for filename in pred_note_name:\n",
    "                pred_chemo = pred_pat_id_df[pred_pat_id_df[\"note_name\"] == pat_id+\"_\"+filename][\"chemo_text\"].tolist()\n",
    "                print(\"~~~~~~~~filename: \", pat_id+\"_\"+filename, \"~~~~~~~~\")\n",
    "                if len(pred_chemo) == 0:\n",
    "                    print(\"The pred file for didn't find this patient with this filename\")\n",
    "                    continue\n",
    "                print(\"PREDICTION:\")\n",
    "                print(sorted(list(set(pred_chemo))))\n",
    "        '''\n",
    "\n"
   ]
  },
  {
   "cell_type": "code",
   "execution_count": null,
   "metadata": {},
   "outputs": [],
   "source": [
    "# copy from above \n",
    "# 0. check the index from chemo -> checked \n",
    "# 1. percentage of match, miss, over predict\n",
    "# 2. those 3 percents group by cancer type \n",
    "pred_file = \"/users/the/NER_MTB/timelines/chemoTimelinesBaselineSystem/output/change_n2space/unsummarized_melanoma_train_output.tsv\"\n",
    "gold_json_file = \"/users/the/NER_MTB/0_melanoma_train_gold_dct.json\"\n",
    "gold_ids_file = \"/users/the/NER_MTB/chemoTimelines2024_train_dev_labeled/subtask1/All_Patient_IDs/melanoma_train_patient_ids.txt\"\n",
    "\n",
    "gold_ids = []\n",
    "with open(gold_ids_file, \"r\") as infile:\n",
    "    lines = infile.readlines()\n",
    "gold_ids.extend([id.strip() for id in lines])\n",
    "sorted(gold_ids)\n",
    "with open(gold_json_file, \"r\") as infile:\n",
    "    gold_dct = json.load(infile)\n",
    "\n",
    "pred_df = pd.read_csv(pred_file, delimiter=\"\\t\")\n",
    "pred_unique_note_name = list(set(pred_df[\"note_name\"]))\n",
    "pred_unique_pat_id = list(set(pred_df[\"patient_id\"]))\n",
    "\n",
    "gold_chemo_all, pred_chemo_all = [], []\n",
    "for pat_id in gold_ids:\n",
    "    print(f\"~~~~~~~~{pat_id}~~~~~~~~\")\n",
    "    gold_chemo = []\n",
    "    if pat_id in gold_dct.keys() :\n",
    "        for filename in sorted(list(gold_dct[pat_id].keys())):\n",
    "            if (pat_id+\"_\"+filename) not in pred_unique_note_name:\n",
    "                print(\"The pred file for didn't find this patient with this filename\")\n",
    "                continue\n",
    "            print(\"~~~~~~~~filename: \", pat_id+\"_\"+filename, \"~~~~~~~~\")\n",
    "            gold_chemo = sorted(list(set(gold_dct[pat_id][filename][\"pair_wise\"][\"chemo\"][\"ment\"])))\n",
    "            print(\"GOLD:\")\n",
    "            print(gold_chemo)\n",
    "            pred_chemo = sorted(list(set(pred_df[pred_df[\"note_name\"] == pat_id+\"_\"+filename][\"chemo_text\"].tolist())))\n",
    "            print(\"PREDICTION: \")\n",
    "            print(pred_chemo)\n",
    "    else: \n",
    "        continue"
   ]
  },
 ],
 "metadata": {
  "kernelspec": {
   "display_name": "Python 3",
   "language": "python",
   "name": "python3"
  },
  "language_info": {
   "codemirror_mode": {
    "name": "ipython",
    "version": 3
   },
   "file_extension": ".py",
   "mimetype": "text/x-python",
   "name": "python",
   "nbconvert_exporter": "python",
   "pygments_lexer": "ipython3",
   "version": "3.10.10"
  }
 },
 "nbformat": 4,
 "nbformat_minor": 2
}
