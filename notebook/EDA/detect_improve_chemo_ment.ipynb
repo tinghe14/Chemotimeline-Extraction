{
 "cells": [
  {
   "cell_type": "code",
   "execution_count": 1,
   "metadata": {},
   "outputs": [],
   "source": [
    "import json\n",
    "import pandas as pd "
   ]
  },
  {
   "cell_type": "markdown",
   "metadata": {},
   "source": [
    "## Explore:"
   ]
  },
  {
   "cell_type": "markdown",
   "metadata": {},
   "source": [
    "### chemo ment accuracy\n",
    "how well of the system to extract chemo ment"
   ]
  },
  {
   "cell_type": "code",
   "execution_count": null,
   "metadata": {},
   "outputs": [],
   "source": [
    "# 0. check the index from chemo -> checked \n",
    "# 1. percentage of match, miss, over predict\n",
    "# 2. those 3 percents group by cancer type \n",
    "cancer, mode = \"ovarian\", \"dev\"\n",
    "pred_file = f\"/users/the/NER_MTB/timelines/chemoTimelinesBaselineSystem/output/change_n2space/unsummarized_{cancer}_{mode}_output.tsv\"\n",
    "gold_json_file = f\"/users/the/NER_MTB/0_{cancer}_{mode}_gold_dct.json\"\n",
    "gold_ids_file = f\"/users/the/NER_MTB/chemoTimelines2024_train_dev_labeled/subtask1/All_Patient_IDs/{cancer}_{mode}_patient_ids.txt\"\n",
    "\n",
    "gold_ids = []\n",
    "with open(gold_ids_file, \"r\") as infile:\n",
    "    lines = infile.readlines()\n",
    "gold_ids.extend([id.strip() for id in lines])\n",
    "sorted(gold_ids)\n",
    "with open(gold_json_file, \"r\") as infile:\n",
    "    gold_dct = json.load(infile)\n",
    "\n",
    "pred_df = pd.read_csv(pred_file, delimiter=\"\\t\")\n",
    "pred_unique_note_name = list(set(pred_df[\"note_name\"]))\n",
    "pred_unique_pat_id = list(set(pred_df[\"patient_id\"]))\n",
    "\n",
    "gold_chemo_all, pred_chemo_all = [], []\n",
    "for pat_id in gold_ids:\n",
    "    print(f\"~~~~~~~~{pat_id}~~~~~~~~\")\n",
    "    gold_chemo = []\n",
    "    if pat_id in gold_dct.keys() :\n",
    "        for filename in sorted(list(gold_dct[pat_id].keys())):\n",
    "            if (pat_id+\"_\"+filename) not in pred_unique_note_name:\n",
    "                print(\"The pred file for didn't find this patient with this filename\")\n",
    "                continue\n",
    "            print(\"~~~~~~~~filename: \", pat_id+\"_\"+filename, \"~~~~~~~~\")\n",
    "            gold_chemo = sorted(list(set(gold_dct[pat_id][filename][\"pair_wise\"][\"chemo\"][\"ment\"])))\n",
    "            print(\"GOLD:\")\n",
    "            print(gold_chemo)\n",
    "            pred_chemo = sorted(list(set(pred_df[pred_df[\"note_name\"] == pat_id+\"_\"+filename][\"chemo_text\"].tolist())))\n",
    "            print(\"PREDICTION: \")\n",
    "            print(pred_chemo)\n",
    "    else: \n",
    "        continue\n",
    "        '''\n",
    "        print(\"The gold file for this patient didn't find any chemo mention at all\")\n",
    "        if pat_id not in pred_unique_pat_id:\n",
    "            print(\"The pred file for this patient didn't find any chemo mention at all\")\n",
    "        else:\n",
    "            pred_pat_id_df = pred_df[pred_df.loc[:,\"patient_id\"] == pat_id]\n",
    "            pred_note_name = sorted(list(set(pred_pat_id_df[\"note_name\"])))\n",
    "            for filename in pred_note_name:\n",
    "                pred_chemo = pred_pat_id_df[pred_pat_id_df[\"note_name\"] == pat_id+\"_\"+filename][\"chemo_text\"].tolist()\n",
    "                print(\"~~~~~~~~filename: \", pat_id+\"_\"+filename, \"~~~~~~~~\")\n",
    "                if len(pred_chemo) == 0:\n",
    "                    print(\"The pred file for didn't find this patient with this filename\")\n",
    "                    continue\n",
    "                print(\"PREDICTION:\")\n",
    "                print(sorted(list(set(pred_chemo))))\n",
    "        '''\n",
    "\n"
   ]
  },
  {
   "cell_type": "code",
   "execution_count": null,
   "metadata": {},
   "outputs": [],
   "source": [
    "# copy from above \n",
    "# 0. check the index from chemo -> checked \n",
    "# 1. percentage of match, miss, over predict\n",
    "# 2. those 3 percents group by cancer type \n",
    "pred_file = \"/users/the/NER_MTB/timelines/chemoTimelinesBaselineSystem/output/change_n2space/unsummarized_melanoma_train_output.tsv\"\n",
    "gold_json_file = \"/users/the/NER_MTB/0_melanoma_train_gold_dct.json\"\n",
    "gold_ids_file = \"/users/the/NER_MTB/chemoTimelines2024_train_dev_labeled/subtask1/All_Patient_IDs/melanoma_train_patient_ids.txt\"\n",
    "\n",
    "gold_ids = []\n",
    "with open(gold_ids_file, \"r\") as infile:\n",
    "    lines = infile.readlines()\n",
    "gold_ids.extend([id.strip() for id in lines])\n",
    "sorted(gold_ids)\n",
    "with open(gold_json_file, \"r\") as infile:\n",
    "    gold_dct = json.load(infile)\n",
    "\n",
    "pred_df = pd.read_csv(pred_file, delimiter=\"\\t\")\n",
    "pred_unique_note_name = list(set(pred_df[\"note_name\"]))\n",
    "pred_unique_pat_id = list(set(pred_df[\"patient_id\"]))\n",
    "\n",
    "gold_chemo_all, pred_chemo_all = [], []\n",
    "for pat_id in gold_ids:\n",
    "    print(f\"~~~~~~~~{pat_id}~~~~~~~~\")\n",
    "    gold_chemo = []\n",
    "    if pat_id in gold_dct.keys() :\n",
    "        for filename in sorted(list(gold_dct[pat_id].keys())):\n",
    "            if (pat_id+\"_\"+filename) not in pred_unique_note_name:\n",
    "                print(\"The pred file for didn't find this patient with this filename\")\n",
    "                continue\n",
    "            print(\"~~~~~~~~filename: \", pat_id+\"_\"+filename, \"~~~~~~~~\")\n",
    "            gold_chemo = sorted(list(set(gold_dct[pat_id][filename][\"pair_wise\"][\"chemo\"][\"ment\"])))\n",
    "            print(\"GOLD:\")\n",
    "            print(gold_chemo)\n",
    "            pred_chemo = sorted(list(set(pred_df[pred_df[\"note_name\"] == pat_id+\"_\"+filename][\"chemo_text\"].tolist())))\n",
    "            print(\"PREDICTION: \")\n",
    "            print(pred_chemo)\n",
    "    else: \n",
    "        continue"
   ]
  },
  {
   "cell_type": "code",
   "execution_count": 25,
   "metadata": {},
   "outputs": [
    {
     "data": {
      "text/plain": [
       "\"===================================================================\\nReport ID.....................44,a0aKz7NubdPD\\nPatient ID....................a0aKz7NubdPD\\nPatient Name..................Patient35\\nPrincipal Date................20120417\\nRecord Type...................NOTE\\n===================================================================\\n[Report de-identified (Limited dataset compliant) by De-ID v.6.24.5.1]\\n\\nInstitution of Institution\\n \\n Location, PA \\n\\n\\n\\n\\n Institution Clinical Summary\\n\\n Below represents a clinician-friendly summary of the instructions provided to the patient.\\n\\n\\n\\n\\n\\n\\n\\nPatient Name:  Patient35\\nAddress: Location\\nPatient Phone:   \\nPatient DOB:  07/19/1960\\n\\n\\n\\n\\n\\n\\n\\n\\n\\n\\n\\n\\n\\n\\nAge:  51 Years\\n\\n\\n\\n\\n\\n\\nGender:  Female\\n\\nAdmission Date/Time:  04/17/12\\n8:00 AM\\n\\n\\n\\n MRN:   184 190\\n\\n\\n\\n FIN:  030 \\nPrinting Date/Time:  04/17/12\\n11:56 AM\\nReason For Visit:  PERS HX OF BREAST MALIGNANCY\\nDischarging Unit:  GSDS\\n\\n\\n\\n\\n\\nProviders\\n\\n\\nPCP: Person8\\n\\n\\nAttending: Person23\\n\\n\\nReferring: Person8\\n\\n\\nConsulting:  MEDICAL INFORMATION\\n\\n\\n\\n\\n Provider Discharge Diagnosis:  Allergies:  pcn [unknown]; sulfa drugs [unknown]\\n\\n\\n\\n\\n\\n\\nImmunization History:  No immunizations administered this visit\\n\\n\\n\\n\\n\\nVital Signs / Pain Score (Most recently documented values in the past 24 hours.)\\n\\n 04/17/12 11:26\\n Temp: 36 deg C\\n\\n 04/17/12 11:45\\n BP:  144/75\\n\\n 04/17/12 11:45\\n HR:  54\\n\\n 04/17/12 11:45\\n RR:  9\\n\\n 04/17/12 11:30\\n Pain Score:  0\\n\\nOxygen (Most recently documented values in the past 24 hours.)\\n\\n 04/17/12 11:45\\n SpO2:  100 %\\n\\n 04/17/12 11:26\\n O2:  6 liters/min\\n\\nMeasurements (Most recently documented values for entire visit.)\\n\\n 04/16/12 13:04\\n Height: 155.0 cm (61.0 in)\\n\\n 04/16/12 13:04\\n Weight: 55.0 kg (121.0 lbs)\\n\\n 04/16/12 13:04\\n BMI:  22.9\\n\\nVent Settings (As of: 04/17/12 11:10)\\n\\n PEEP: 2\\n\\n\\nPeak Pressure: 12\\n\\n\\n\\n\\n\\nDischarge Medications:  ANASTROZOLE (ARIMIDEX) 1 MG BY MOUTH ONCE A DAY (No Change)\\nATORVASTATIN (LIPITOR) 10 MG BY MOUTH AT BEDTIME (No Change)\\nCALCIUM CARBONATE (CALTRATE) 1,200 MG BY MOUTH 2 TIMES A DAY (No Change)\\nMULTIVITAMIN WITH MINERALS (ONE DAILY WITH MINERALS) 1 TAB BY MOUTH 2 TIMES A DAY (No Change)\\n\\n\\nMedication Information Comment:  Lab Results Not Available at Time of Discharge\\n\\n\\nISOLATION INFORMATION\\n\\n\\n Advance Directives\\n\\n Advance Directives:  No, but patient does not wish to have adv dir\\n\\n On Chart:  Advance Directives Location:  Received Advance Directives Information:  Yes\\n\\n Wishes to Discuss Advance Directives?\\nNo\\n\\n Healthcare Decision Maker(s):  ORDER INFORMATION\\nDepart Discharge Outpatient\\nDepart Activity SDS:  See Diagnosis/Procedure Specific Instructions, No driving while taking pain medication\\nDepart Diet SDS:  See Diagnosis/Procedure Specific Instructions\\nInstitution\\n\\n\\n\\n\\nInstructions Given\\n\\n Breast Reconstruction with Tissue Expanders Implant Institution\\n\\n\\n\\n Follow-up Appointments\\n\\n\\n WITHIN 1 WEEK : Person23\\n\\n\\n\\n\\n\\n\\nHOME HEALTH CARE INFORMATION\\n\\n None\\n\\n\\n\\n\\n Additional Comments:  For any questions regarding the patient's stay at our facility, please contact\\nDischarging Provider(s)\\n\\n _________________________\\n\\n *Discharge instructions electronically signed by Discharging Providers noted above.\\n\\n Discharging Nurse\\n\\n Person47\\n\\nAt:  Perform - Completed by Person48 (on 04/17/2012 11:56)\\n Sign - Completed by Person48 (on 04/17/2012 11:56)\\n VERIFY - Completed by Person48 (on 04/17/2012 11:56)\\n\\n\\n\\n\\n\""
      ]
     },
     "execution_count": 25,
     "metadata": {},
     "output_type": "execute_result"
    }
   ],
   "source": [
    "gold_dct[\"patient35\"][\"report028_NOTE\"][\"raw_note\"]"
   ]
  }
 ],
 "metadata": {
  "kernelspec": {
   "display_name": "Python 3",
   "language": "python",
   "name": "python3"
  },
  "language_info": {
   "codemirror_mode": {
    "name": "ipython",
    "version": 3
   },
   "file_extension": ".py",
   "mimetype": "text/x-python",
   "name": "python",
   "nbconvert_exporter": "python",
   "pygments_lexer": "ipython3",
   "version": "3.10.10"
  }
 },
 "nbformat": 4,
 "nbformat_minor": 2
}
