{
 "cells": [
  {
   "cell_type": "code",
   "execution_count": 2,
   "metadata": {},
   "outputs": [],
   "source": [
    "import json\n",
    "from collections import defaultdict\n",
    "import os "
   ]
  },
  {
   "cell_type": "markdown",
   "metadata": {},
   "source": [
    "##### after summarized timeline and before evaluation\n",
    "###### split into cancer/mode/file"
   ]
  },
  {
   "cell_type": "code",
   "execution_count": 6,
   "metadata": {},
   "outputs": [],
   "source": [
    "# need to change\n",
    "out_dir = \"/users/the/NER_MTB/timelines/docker_output_to_timeline/summarized_output/add_lookup\"\n",
    "summarized_timeline = os.path.join(out_dir, \"ovarian_dev_system_timelines.json\")\n",
    "cancer_type, mode = summarized_timeline.split(\"/\")[-1].split(\"_\")[0], summarized_timeline.split(\"/\")[-1].split(\"_\")[1]\n",
    "\n",
    "\n",
    "outfile = os.path.join(out_dir, f\"cleaned_{cancer_type}_{mode}.json\")\n",
    "all_ids = f\"/users/the/NER_MTB/chemoTimelines2024_train_dev_labeled/subtask1/All_Patient_IDs/{cancer_type}_{mode}_patient_ids.txt\"\n",
    "\n",
    "out_dct = defaultdict(list)\n",
    "with open(summarized_timeline, \"r\") as infile:\n",
    "    dct = json.load(infile)\n",
    "out_lst = []\n",
    "with open(all_ids, \"r\") as infile:\n",
    "    lines = infile.readlines()\n",
    "    for line in lines: \n",
    "        out_lst.append(line[:-1])\n",
    "\n",
    "for pat_id in dct.keys():\n",
    "    if pat_id in out_lst:\n",
    "        out_dct[pat_id] = dct[pat_id]\n",
    "with open(outfile, \"w\") as outfile: \n",
    "    json.dump(out_dct, outfile)"
   ]
  }
 ],
 "metadata": {
  "kernelspec": {
   "display_name": "Python 3",
   "language": "python",
   "name": "python3"
  },
  "language_info": {
   "codemirror_mode": {
    "name": "ipython",
    "version": 3
   },
   "file_extension": ".py",
   "mimetype": "text/x-python",
   "name": "python",
   "nbconvert_exporter": "python",
   "pygments_lexer": "ipython3",
   "version": "3.8.17"
  }
 },
 "nbformat": 4,
 "nbformat_minor": 2
}
