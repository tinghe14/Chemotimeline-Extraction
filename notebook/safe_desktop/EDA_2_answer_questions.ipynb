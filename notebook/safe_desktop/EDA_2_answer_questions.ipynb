{
 "cells": [
  {
   "cell_type": "code",
   "execution_count": 1,
   "metadata": {},
   "outputs": [],
   "source": [
    "import json"
   ]
  },
  {
   "attachments": {},
   "cell_type": "markdown",
   "metadata": {},
   "source": [
    "### Question1: time和对应chemo的token distance and sentence distance\n",
    "##### Goal: if find a clear pattern, might help with the model by narrowing down the range\n",
    "###### steps:\n",
    "###### 1. start with dev pair wise file\n",
    "###### 2. given the file return another features for \"pair-wise\", \"rel\" as \"distance_num_tokens\" and \"distance_num_sentences\"\n",
    "###### 3. edge case: when meets \"\\n\", it will increment the num_sentences but the meaning is different than normal sentence"
   ]
  },
  {
   "cell_type": "code",
   "execution_count": 4,
   "metadata": {},
   "outputs": [],
   "source": [
    "gold_pairwise_json = \"S:\\Chemo_Challenge\\\\0_breast_dev_gold_dct.json\"\n",
    "# test the index should return the true ment by using the raw note \n",
    "with open(gold_pairwise_json, \"r\") as infile:\n",
    "    lines = json.load(infile)\n",
    "for pat in lines.keys():\n",
    "    for file in lines[pat].keys():\n",
    "        print(lines[pat][file]\n",
    "        break \n",
    "    break\n"
   ]
  }
 ],
 "metadata": {
  "kernelspec": {
   "display_name": "Python 3",
   "language": "python",
   "name": "python3"
  },
  "language_info": {
   "codemirror_mode": {
    "name": "ipython",
    "version": 3
   },
   "file_extension": ".py",
   "mimetype": "text/x-python",
   "name": "python",
   "nbconvert_exporter": "python",
   "pygments_lexer": "ipython3",
   "version": "3.10.11"
  },
  "orig_nbformat": 4,
  "vscode": {
   "interpreter": {
    "hash": "13a0a7db74dc931e95168a9b504eadd3f616dade2353cce14264b5d4e454dcfa"
   }
  }
 },
 "nbformat": 4,
 "nbformat_minor": 2
}
