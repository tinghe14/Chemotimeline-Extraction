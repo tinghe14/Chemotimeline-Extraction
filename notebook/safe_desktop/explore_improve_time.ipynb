{
 "cells": [
  {
   "cell_type": "code",
   "execution_count": null,
   "metadata": {},
   "outputs": [],
   "source": [
    "import spacy"
   ]
  },
  {
   "cell_type": "code",
   "execution_count": 1,
   "metadata": {},
   "outputs": [
    {
     "name": "stderr",
     "output_type": "stream",
     "text": [
      "'pip' is not recognized as an internal or external command,\n",
      "operable program or batch file.\n"
     ]
    }
   ],
   "source": [
    "!pip install spacy"
   ]
  },
  {
   "attachments": {},
   "cell_type": "markdown",
   "metadata": {},
   "source": [
    "###### test 1, 空行会影响spacy的分句吗"
   ]
  },
  {
   "cell_type": "code",
   "execution_count": null,
   "metadata": {},
   "outputs": [],
   "source": [
    "# brest train pat11_report008_PGN_breast\n",
    "test = \"History of Present Illness\\nPt is a 34 year old female admitted via MWH ED for a probable port\\ninfection.  Past medical history is significant for right infiltrating\\nbreast cancer, s/p 6 months of weekly taxol chemotherapy (from Feb-July\\n2011) and a segmental mastectomy on 1/25/11.\"\n"
   ]
  }
 ],
 "metadata": {
  "kernelspec": {
   "display_name": "Python 3",
   "language": "python",
   "name": "python3"
  },
  "language_info": {
   "codemirror_mode": {
    "name": "ipython",
    "version": 3
   },
   "file_extension": ".py",
   "mimetype": "text/x-python",
   "name": "python",
   "nbconvert_exporter": "python",
   "pygments_lexer": "ipython3",
   "version": "3.10.11"
  },
  "orig_nbformat": 4,
  "vscode": {
   "interpreter": {
    "hash": "13a0a7db74dc931e95168a9b504eadd3f616dade2353cce14264b5d4e454dcfa"
   }
  }
 },
 "nbformat": 4,
 "nbformat_minor": 2
}
